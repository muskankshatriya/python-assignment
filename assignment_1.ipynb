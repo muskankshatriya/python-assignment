{
  "nbformat": 4,
  "nbformat_minor": 0,
  "metadata": {
    "colab": {
      "provenance": []
    },
    "kernelspec": {
      "name": "python3",
      "display_name": "Python 3"
    },
    "language_info": {
      "name": "python"
    }
  },
  "cells": [
    {
      "cell_type": "markdown",
      "source": [
        "#***THEORY QUESTIONS***\n",
        "\n",
        "#1. What is Python and why is it popular ?\n",
        "  -   python is a programming language\n",
        "      * It is free to use and to distribute .                                    \n",
        "      * It is popular because >>\n",
        "      * Python is easy to learn.\n",
        "      * Python has an active, supportive community.\n",
        "      * Python is flexible\n",
        "      * Python offers versatile web-development solutions\n",
        "      * Python is well suited to data science and analytics\n",
        "      * Python is efficient, fast, and reliable\n",
        "#2. What is an interpreter in Python?\n",
        "    - A Python interpreter is a program that reads and executes Python code line .\n",
        "     by line, translating it into machine-readable instructions and then running them .\n",
        "#3. What are pre-defined keywords in Python?\n",
        "    - Python keywords are special reserved words that have specific meanings and purposes and can't be used for anything but those specific purposes.\n",
        "    ***for example*** >> TRUE , FALSE , AS , BREAK ETC.\n",
        "#4. Can keywords be used as variable name?\n",
        "     - ***NO*** , you cannot use keywords as variable names because they are reserved words with predefined meanings in programming languages, and using them as variable names would lead to syntax errors.\n",
        "#5. What is mutability in Python?\n",
        "    - In Python, mutability refers to an object's ability to be changed after it's created; mutable objects can be modified in place, while immutable objects cannot.\n",
        "    ***for example*** >> lists , sets are mutable .\n",
        "#6. Why are lists mutable, but tuples are immutable?\n",
        "    - Like a list, a tuple is a sequence\n",
        "     of elements. However, once set, we cannot change a tuple. Like a Python string, a tuple is immutable but list can be changed hence it is mutable .\n",
        "#7. What is the difference between “==” and “is” operators in Python ?\n",
        "    - ***==*** (Equality Operators):\n",
        "        Compares the values of two objects.  \n",
        "     Example: 1 == 1  \n",
        "    - ***is*** (Identity Operator):\n",
        "         Compares the identity of two objects, meaning whether they are the same object in memory.\n",
        "     Example: x = [1, 2, 3]; y = x; x is y returns true .\n",
        "#8. What are logical operators in Python?\n",
        "    - In Python, logical operators, and, or, and not, are used to combine or reverse boolean expressions, returning True or False based on the truth values of the operands .\n",
        "#9. What is type casting in Python?\n",
        "    - In Python, type casting (also known as type conversion) is the process of converting a variable's data type to another, either implicitly (automatically by the interpreter) or explicitly (using built-in functions).\n",
        "#10. What is the difference between implicit and explicit type casting?\n",
        "    - Implicit type casting, also known as widening conversion, happens automatically by the compiler when converting a smaller data type to a larger one, while explicit type casting, or narrowing conversion, requires the programmer to explicitly instruct the conversion, often when converting a larger data type to a smaller one, potentially leading to data loss.\n",
        "#11. What is the purpose of conditional statements in Python?\n",
        "    - Conditional statements in Python, like if, elif, and else, allow your program to make decisions and execute different code blocks based on whether a condition is true or false, enabling dynamic and flexible program flow.\n",
        "#12. How does the elif statement work?\n",
        "    - The “elif” keyword in Python, stands for “else if”. It can be used in conditional statements to check for multiple conditions. For example, if the first condition is false, it moves on to the next “elif” statement to check if that condition is true .\n",
        "#13. What is the difference between for and while loops?\n",
        "    - The key difference between for and while loops lies in how they determine the number of iterations: for loops are used when you know the number of iterations beforehand, while while loops repeat until a condition is met, making them suitable for situations where the number of iterations is not predetermined.\n",
        "#14. Describe a scenario where a while loop is more suitable than a for loop .\n",
        "    - Situations where the number of iterations is not predetermined and depends on some dynamic condition.\n",
        "   \n",
        "\n",
        "\n"
      ],
      "metadata": {
        "id": "lh_p6tPRk2Rs"
      }
    },
    {
      "cell_type": "markdown",
      "source": [
        "#***PRACTICAL QUESTIONS***\n",
        "\n",
        "\n",
        "\n"
      ],
      "metadata": {
        "id": "nHfTnk4i2dD9"
      }
    },
    {
      "cell_type": "code",
      "source": [
        "#1. Write a Python program to print \"Hello, World!\"\n",
        "print(\"Hello, World!\")"
      ],
      "metadata": {
        "colab": {
          "base_uri": "https://localhost:8080/"
        },
        "id": "_o_fUD_S3L9V",
        "outputId": "8dc79a38-bd2d-4574-a3b5-0df2b019a47e"
      },
      "execution_count": null,
      "outputs": [
        {
          "output_type": "stream",
          "name": "stdout",
          "text": [
            "Hello, World!\n"
          ]
        }
      ]
    },
    {
      "cell_type": "code",
      "source": [
        "#2. Write a Python program that displays your name and age.\n",
        "print(input(\"name\"))\n",
        "print(input(\"age\"))"
      ],
      "metadata": {
        "colab": {
          "base_uri": "https://localhost:8080/"
        },
        "id": "txFu8veA3ZhR",
        "outputId": "afa8ae73-95a5-4762-e545-303a9eade41d"
      },
      "execution_count": null,
      "outputs": [
        {
          "output_type": "stream",
          "name": "stdout",
          "text": [
            "name muskan singh rajput\n",
            " muskan singh rajput\n",
            "age  19\n",
            "  19\n"
          ]
        }
      ]
    },
    {
      "cell_type": "code",
      "source": [
        "#3. Write code to print all the pre-defined keywords in Python using the keyword library .\n",
        "import keyword\n",
        "print(\"all keyword list : \")\n",
        "print(keyword.kwlist)"
      ],
      "metadata": {
        "colab": {
          "base_uri": "https://localhost:8080/"
        },
        "id": "2OIRvTyV3378",
        "outputId": "dec628d2-f998-407b-c263-1d0dbacb783b"
      },
      "execution_count": null,
      "outputs": [
        {
          "output_type": "stream",
          "name": "stdout",
          "text": [
            "all keyword list : \n",
            "['False', 'None', 'True', 'and', 'as', 'assert', 'async', 'await', 'break', 'class', 'continue', 'def', 'del', 'elif', 'else', 'except', 'finally', 'for', 'from', 'global', 'if', 'import', 'in', 'is', 'lambda', 'nonlocal', 'not', 'or', 'pass', 'raise', 'return', 'try', 'while', 'with', 'yield']\n"
          ]
        }
      ]
    },
    {
      "cell_type": "code",
      "source": [
        "#4. Write a program that checks if a given word is a Python keyword.\n",
        "import keyword #iskeyword()\n",
        "m = \"rahul\"\n",
        "if keyword.iskeyword(m):\n",
        "  print(\"yes\")\n",
        "else:\n",
        "  print(\"no\")\n",
        "\n",
        "n = \"for\"\n",
        "if keyword.iskeyword(n):\n",
        "  print(\"yes\")\n",
        "else:\n",
        "  print(\"no\")"
      ],
      "metadata": {
        "colab": {
          "base_uri": "https://localhost:8080/"
        },
        "id": "byd10pYW41-g",
        "outputId": "b42903c5-5276-4f16-8cae-58b154d51320"
      },
      "execution_count": null,
      "outputs": [
        {
          "output_type": "stream",
          "name": "stdout",
          "text": [
            "no\n",
            "yes\n"
          ]
        }
      ]
    },
    {
      "cell_type": "code",
      "source": [
        "#5. Create a list and tuple in Python, and demonstrate how attempting to change an element works differently for each.\n",
        "list=[\"shinchan\" , \"doraemon\" , \"ladybug\"]\n",
        "list[0] = \"naruto\"\n",
        "print(list)\n",
        "\n",
        "tuple=(\"shinchan\" , \"doraemon\" , \"ladybug\")\n",
        "tuple[0] = \"naruto\"\n",
        "print(tuple) # it will through an error if we try to change an element because tuples are immutable whereas lists are mutable.\n"
      ],
      "metadata": {
        "colab": {
          "base_uri": "https://localhost:8080/",
          "height": 219
        },
        "id": "9sl8lDGw6pIa",
        "outputId": "620688a7-cdea-418a-9042-14d8982bb37e"
      },
      "execution_count": null,
      "outputs": [
        {
          "output_type": "stream",
          "name": "stdout",
          "text": [
            "['naruto', 'doraemon', 'ladybug']\n"
          ]
        },
        {
          "output_type": "error",
          "ename": "TypeError",
          "evalue": "'tuple' object does not support item assignment",
          "traceback": [
            "\u001b[0;31m---------------------------------------------------------------------------\u001b[0m",
            "\u001b[0;31mTypeError\u001b[0m                                 Traceback (most recent call last)",
            "\u001b[0;32m<ipython-input-58-7731ad36839e>\u001b[0m in \u001b[0;36m<cell line: 0>\u001b[0;34m()\u001b[0m\n\u001b[1;32m      5\u001b[0m \u001b[0;34m\u001b[0m\u001b[0m\n\u001b[1;32m      6\u001b[0m \u001b[0mtuple\u001b[0m\u001b[0;34m=\u001b[0m\u001b[0;34m(\u001b[0m\u001b[0;34m\"shinchan\"\u001b[0m \u001b[0;34m,\u001b[0m \u001b[0;34m\"doraemon\"\u001b[0m \u001b[0;34m,\u001b[0m \u001b[0;34m\"ladybug\"\u001b[0m\u001b[0;34m)\u001b[0m\u001b[0;34m\u001b[0m\u001b[0;34m\u001b[0m\u001b[0m\n\u001b[0;32m----> 7\u001b[0;31m \u001b[0mtuple\u001b[0m\u001b[0;34m[\u001b[0m\u001b[0;36m0\u001b[0m\u001b[0;34m]\u001b[0m \u001b[0;34m=\u001b[0m \u001b[0;34m\"naruto\"\u001b[0m\u001b[0;34m\u001b[0m\u001b[0;34m\u001b[0m\u001b[0m\n\u001b[0m\u001b[1;32m      8\u001b[0m \u001b[0mprint\u001b[0m\u001b[0;34m(\u001b[0m\u001b[0mtuple\u001b[0m\u001b[0;34m)\u001b[0m \u001b[0;31m# it will through an error if we try to change an element because tuples are immutable whereas lists are mutable.\u001b[0m\u001b[0;34m\u001b[0m\u001b[0;34m\u001b[0m\u001b[0m\n",
            "\u001b[0;31mTypeError\u001b[0m: 'tuple' object does not support item assignment"
          ]
        }
      ]
    },
    {
      "cell_type": "code",
      "source": [
        "# 6.Write a function to demonstrate the behavior of mutable and immutable arguments.\n",
        "def modify_arguments(immutable_arg, mutable_arg):\n",
        "  immutable_arg = 10\n",
        "  mutable_arg.append(4)\n",
        "\n",
        "immutable_value = 5\n",
        "\n",
        "mutable_value = [1, 2, 3]\n",
        "\n",
        "print(f\"Before function call: immutable_value = {immutable_value}, mutable_value = {mutable_value}\")\n",
        "\n",
        "modify_arguments(immutable_value, mutable_value)\n",
        "\n",
        "print(f\"After function call: immutable_value = {immutable_value}, mutable_value = {mutable_value}\")\n",
        "\n"
      ],
      "metadata": {
        "id": "JRl_825i8khs",
        "colab": {
          "base_uri": "https://localhost:8080/"
        },
        "outputId": "9eef3ab2-17e4-423e-e406-c02739fc0c9d"
      },
      "execution_count": 68,
      "outputs": [
        {
          "output_type": "stream",
          "name": "stdout",
          "text": [
            "Before function call: immutable_value = 5, mutable_value = [1, 2, 3]\n",
            "After function call: immutable_value = 5, mutable_value = [1, 2, 3, 4]\n"
          ]
        }
      ]
    },
    {
      "cell_type": "code",
      "source": [
        "#7. Same as 6th question :)"
      ],
      "metadata": {
        "id": "CxF7G5io_PtP"
      },
      "execution_count": null,
      "outputs": []
    },
    {
      "cell_type": "code",
      "source": [
        "#8. Write a program to demonstrate the use of logical operators.\n",
        "#and\n",
        "a = 0\n",
        "b = 80000000\n",
        "c = 58887050585599\n",
        "if a>0 and b>0 and c>0: #Atleast one of them is not true:)\n",
        "  print(\"I love aman\")\n",
        "else :\n",
        "  print(\"I love INDIA\")"
      ],
      "metadata": {
        "colab": {
          "base_uri": "https://localhost:8080/"
        },
        "id": "ya8DfToo_fpg",
        "outputId": "21d2613d-1a99-409f-e380-c06892f360d0"
      },
      "execution_count": null,
      "outputs": [
        {
          "output_type": "stream",
          "name": "stdout",
          "text": [
            "I love INDIA\n"
          ]
        }
      ]
    },
    {
      "cell_type": "code",
      "source": [
        "#or\n",
        "a = 0\n",
        "b = 80000000\n",
        "c = 58887050585599\n",
        "if a>0 or b>0 or c>0: #Atleast one of them is true :(\n",
        "  print(\"I love aman\")\n",
        "else :\n",
        "  print(\"I love INDIA\")"
      ],
      "metadata": {
        "colab": {
          "base_uri": "https://localhost:8080/"
        },
        "id": "_lCPG97zBCoi",
        "outputId": "7e1422eb-414d-415f-cab7-034da4c9fd8c"
      },
      "execution_count": null,
      "outputs": [
        {
          "output_type": "stream",
          "name": "stdout",
          "text": [
            "I love aman\n"
          ]
        }
      ]
    },
    {
      "cell_type": "code",
      "source": [
        "#not operator\n",
        "print(not True)\n",
        "print(not False)"
      ],
      "metadata": {
        "colab": {
          "base_uri": "https://localhost:8080/"
        },
        "id": "fatB_TWWB8VY",
        "outputId": "9e65921f-6cb8-446f-c048-a10ea2ab19d2"
      },
      "execution_count": null,
      "outputs": [
        {
          "output_type": "stream",
          "name": "stdout",
          "text": [
            "False\n",
            "True\n"
          ]
        }
      ]
    },
    {
      "cell_type": "code",
      "source": [
        "#9. Write a Python program to convert user input from string to integer, float, and boolean types.\n",
        "'''string to integer'''\n",
        "A= \"123456789\"\n",
        "type(A)\n",
        "type(int(A))"
      ],
      "metadata": {
        "colab": {
          "base_uri": "https://localhost:8080/"
        },
        "id": "6roZad-RCdyw",
        "outputId": "db0284c6-680b-4e02-c18e-e65d53f66a52"
      },
      "execution_count": null,
      "outputs": [
        {
          "output_type": "execute_result",
          "data": {
            "text/plain": [
              "int"
            ]
          },
          "metadata": {},
          "execution_count": 36
        }
      ]
    },
    {
      "cell_type": "code",
      "source": [
        "'''strings to float'''\n",
        "damon = input(\"enter any number\")\n",
        "type(damon)"
      ],
      "metadata": {
        "colab": {
          "base_uri": "https://localhost:8080/"
        },
        "id": "A_ddkZQqDeOz",
        "outputId": "6499a0ce-3959-4e09-d048-ec6e0b481f23"
      },
      "execution_count": null,
      "outputs": [
        {
          "name": "stdout",
          "output_type": "stream",
          "text": [
            "enter any number2.3\n"
          ]
        },
        {
          "output_type": "execute_result",
          "data": {
            "text/plain": [
              "str"
            ]
          },
          "metadata": {},
          "execution_count": 46
        }
      ]
    },
    {
      "cell_type": "code",
      "source": [
        "stefan = float(damon)\n",
        "type(stefan)"
      ],
      "metadata": {
        "colab": {
          "base_uri": "https://localhost:8080/"
        },
        "id": "b9-exGuKEWam",
        "outputId": "26ad310c-8cc5-41e3-d0ad-1613edcfa111"
      },
      "execution_count": null,
      "outputs": [
        {
          "output_type": "execute_result",
          "data": {
            "text/plain": [
              "float"
            ]
          },
          "metadata": {},
          "execution_count": 45
        }
      ]
    },
    {
      "cell_type": "code",
      "source": [
        "'''string to boolean'''\n",
        "a = bool(damon)\n",
        "type(a)"
      ],
      "metadata": {
        "colab": {
          "base_uri": "https://localhost:8080/"
        },
        "id": "W9z8pOjvEqng",
        "outputId": "4cd1e8ae-05d6-417a-c75c-e9d365f57317"
      },
      "execution_count": null,
      "outputs": [
        {
          "output_type": "execute_result",
          "data": {
            "text/plain": [
              "bool"
            ]
          },
          "metadata": {},
          "execution_count": 49
        }
      ]
    },
    {
      "cell_type": "code",
      "source": [
        "#10. Write code to demonstrate type casting with list elements.\n",
        "# Example of type casting with list elements:\n",
        "\n",
        "my_list = [\"1\", \"2\", \"3.14\", \"True\"]\n",
        "\n",
        "# Converting elements to integers:\n",
        "integer_list = [int(x) for x in my_list if x.isdigit()]\n",
        "print(\"Integer list:\", integer_list)\n",
        "\n",
        "# Converting elements to floats:\n",
        "float_list = [float(x) for x in my_list if x.replace('.', '', 1).isdigit()]\n",
        "print(\"Float list:\", float_list)\n",
        "\n",
        "# Converting elements to booleans:\n",
        "boolean_list = [bool(x) for x in my_list]\n",
        "print(\"Boolean list:\", boolean_list)"
      ],
      "metadata": {
        "colab": {
          "base_uri": "https://localhost:8080/"
        },
        "id": "HTn0mj7WFqex",
        "outputId": "c73ec77b-1ad1-4987-f26a-4e8be62f5a0a"
      },
      "execution_count": null,
      "outputs": [
        {
          "output_type": "stream",
          "name": "stdout",
          "text": [
            "Integer list: [1, 2]\n",
            "Float list: [1.0, 2.0, 3.14]\n",
            "Boolean list: [True, True, True, True]\n"
          ]
        }
      ]
    },
    {
      "cell_type": "code",
      "source": [
        "#11.0 Write a program that checks if a number is positive, negative, or zero.\n",
        "number = int(input(\"Enter a number: \"))\n",
        "\n",
        "if number > 0:\n",
        "    print(\"The number is positive.\")\n",
        "elif number < 0:\n",
        "    print(\"The number is negative.\")\n",
        "else:\n",
        "    print(\"The number is zero.\")"
      ],
      "metadata": {
        "colab": {
          "base_uri": "https://localhost:8080/"
        },
        "id": "ctxUyriIGwK5",
        "outputId": "797bbd8b-bd74-4cbd-8c27-794f8f09e7aa"
      },
      "execution_count": null,
      "outputs": [
        {
          "output_type": "stream",
          "name": "stdout",
          "text": [
            "Enter a number: 100\n",
            "The number is positive.\n"
          ]
        }
      ]
    },
    {
      "cell_type": "code",
      "source": [
        "#12. Write a for loop to print numbers from 1 to 10.\n",
        "for (i) in range (1 ,11) :\n",
        "  print(i)"
      ],
      "metadata": {
        "colab": {
          "base_uri": "https://localhost:8080/"
        },
        "id": "GuFssPwCHdQK",
        "outputId": "9b5c880c-3dc5-4d1c-94d5-5befdd1fc7b9"
      },
      "execution_count": null,
      "outputs": [
        {
          "output_type": "stream",
          "name": "stdout",
          "text": [
            "1\n",
            "2\n",
            "3\n",
            "4\n",
            "5\n",
            "6\n",
            "7\n",
            "8\n",
            "9\n",
            "10\n"
          ]
        }
      ]
    },
    {
      "cell_type": "code",
      "source": [
        "#13. Write a Python program to find the sum of all even numbers between 1 and 50.\n",
        "total_sum = 0\n",
        "for number in range(2, 500, 2):\n",
        "    total_sum += number\n",
        "print(\"The sum of all even numbers between 1 and 500 is:\", total_sum)"
      ],
      "metadata": {
        "colab": {
          "base_uri": "https://localhost:8080/"
        },
        "id": "BmljCHceI2aI",
        "outputId": "a4be219e-8b5d-45e4-9616-11bb261f2f7b"
      },
      "execution_count": null,
      "outputs": [
        {
          "output_type": "stream",
          "name": "stdout",
          "text": [
            "The sum of all even numbers between 1 and 500 is: 62250\n"
          ]
        }
      ]
    },
    {
      "cell_type": "code",
      "source": [
        "#14. Write a program to reverse a string using a while loop.\n",
        "string = input(\"Enter a string: \")\n",
        "reversed_string = \"\"\n",
        "length = len(string)\n",
        "index = length - 1\n",
        "\n",
        "while index >= 0:\n",
        "    reversed_string += string[index]\n",
        "    index -= 1\n",
        "\n",
        "print(\"Reversed string:\", reversed_string)\n"
      ],
      "metadata": {
        "id": "D4WUmkxgJl4w",
        "colab": {
          "base_uri": "https://localhost:8080/"
        },
        "outputId": "723d1673-b88d-49dd-a557-7365e4528665"
      },
      "execution_count": 64,
      "outputs": [
        {
          "output_type": "stream",
          "name": "stdout",
          "text": [
            "Enter a string: abcdefghijkl\n",
            "Reversed string: lkjihgfedcba\n"
          ]
        }
      ]
    },
    {
      "cell_type": "code",
      "source": [
        "#15. Write a Python program to calculate the factorial of a number provided by the user using a while loop.\n",
        "def factorial(n):\n",
        "  if n < 0:\n",
        "    return \"Factorial is not defined for negative numbers.\"\n",
        "  elif n == 0:\n",
        "    return 1\n",
        "  else:\n",
        "    result = 1\n",
        "    while n > 1:\n",
        "      result *= n\n",
        "      n -= 1\n",
        "    return result\n",
        "num = int(input(\"Enter a non-negative integer: \"))\n",
        "print(\"The factorial of\", num, \"is\", factorial(num))"
      ],
      "metadata": {
        "colab": {
          "base_uri": "https://localhost:8080/"
        },
        "id": "5GlBaO40WfMn",
        "outputId": "25167f2e-890e-4089-c2cd-d8766776dacb"
      },
      "execution_count": 65,
      "outputs": [
        {
          "output_type": "stream",
          "name": "stdout",
          "text": [
            "Enter a non-negative integer: 21\n",
            "The factorial of 21 is 51090942171709440000\n"
          ]
        }
      ]
    },
    {
      "cell_type": "code",
      "source": [
        "\"\"\"THANK YOU :) :) :)\"\"\""
      ],
      "metadata": {
        "colab": {
          "base_uri": "https://localhost:8080/",
          "height": 36
        },
        "id": "7u3AEY3HXMEE",
        "outputId": "5f78c924-ae48-4f68-dc1d-27f86d832f0e"
      },
      "execution_count": 69,
      "outputs": [
        {
          "output_type": "execute_result",
          "data": {
            "text/plain": [
              "'THANK YOU :) :) :)'"
            ],
            "application/vnd.google.colaboratory.intrinsic+json": {
              "type": "string"
            }
          },
          "metadata": {},
          "execution_count": 69
        }
      ]
    },
    {
      "cell_type": "code",
      "source": [],
      "metadata": {
        "id": "isqYUb85Ylk_"
      },
      "execution_count": null,
      "outputs": []
    }
  ]
}